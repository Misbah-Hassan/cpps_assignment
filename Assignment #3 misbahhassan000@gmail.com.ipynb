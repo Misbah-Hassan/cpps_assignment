{
 "cells": [
  {
   "cell_type": "code",
   "execution_count": 5,
   "metadata": {},
   "outputs": [
    {
     "name": "stdout",
     "output_type": "stream",
     "text": [
      "Enter First Value5\n",
      "Enter Second Value2\n",
      "Enter Operatorpower\n",
      "25 answer\n"
     ]
    }
   ],
   "source": [
    "val1 = int(input(\"Enter First Value\"))\n",
    "val2 =  int(input(\"Enter Second Value\"))\n",
    "\n",
    "#Write power in the operator to find out power of your given values\n",
    "\n",
    "operator = input(\"Enter Operator\")\n",
    "\n",
    "if operator == \"+\":\n",
    "    val = val1+val2\n",
    "    print(val,\"answer\")\n",
    "elif operator == \"-\":\n",
    "    val = val1-val2\n",
    "    print(val,\"answer\")\n",
    "elif operator == \"*\":\n",
    "    val = val1*val2\n",
    "    print(val,\"answer\")\n",
    "elif operator == \"/\":\n",
    "    val = val1/val2\n",
    "    print(val,\"answer\")\n",
    "elif operator == \"power\":\n",
    "    val = val1**val2\n",
    "    print(val,\"answer\")\n",
    "else :\n",
    "    print(\"Please Enter a valid Operator\")\n",
    "    \n",
    "    "
   ]
  },
  {
   "cell_type": "code",
   "execution_count": 18,
   "metadata": {},
   "outputs": [
    {
     "name": "stdout",
     "output_type": "stream",
     "text": [
      "1\n",
      "90\n",
      "80\n"
     ]
    }
   ],
   "source": [
    "value = [1,\"cake\",90,\"mouse\",80]\n",
    "\n",
    "for val in value:\n",
    "    if type(val) == int:\n",
    "        print(val)\n",
    " "
   ]
  },
  {
   "cell_type": "code",
   "execution_count": 45,
   "metadata": {},
   "outputs": [
    {
     "name": "stdout",
     "output_type": "stream",
     "text": [
      "how many keys you want to add ? Enter value in number1\n",
      "Enter key 0Name\n",
      "Enter value for 0Misbah\n",
      "{'Name': 'Misbah'}\n"
     ]
    }
   ],
   "source": [
    "len_ = int(input(\"how many keys you want to add ? Enter value in number\"))\n",
    "\n",
    "dictionary = dict()\n",
    "\n",
    "for i in range(len_):\n",
    "        key = input(\"Enter key \"+str(i))\n",
    "        value = input(\"Enter value for \"+str(i))\n",
    "        dictionary[key] = value\n",
    "print(dictionary)    "
   ]
  },
  {
   "cell_type": "code",
   "execution_count": 58,
   "metadata": {},
   "outputs": [
    {
     "name": "stdout",
     "output_type": "stream",
     "text": [
      "100\n"
     ]
    }
   ],
   "source": [
    "dictionary = {'first_value':10,'second_value':20,30:'third_value',40:'fourth_value'}\n",
    "\n",
    "sum_values = 0 \n",
    "for key,val in dictionary.items():\n",
    "    if type(key) == int :\n",
    "        sum_values = sum_values + key\n",
    "    elif type(val) == int:\n",
    "        sum_values += val\n",
    "print(sum_values)"
   ]
  },
  {
   "cell_type": "code",
   "execution_count": 67,
   "metadata": {},
   "outputs": [
    {
     "name": "stdout",
     "output_type": "stream",
     "text": [
      "cake is Duplicate\n",
      "car is Duplicate\n"
     ]
    }
   ],
   "source": [
    "list1 =['cake','ball','cake','bat','car','car']\n",
    "dup = []\n",
    "for l in list1:\n",
    "    for d in dup:\n",
    "        if l == d:\n",
    "            print(l+\" is Duplicate\")\n",
    "    dup.append(l)\n"
   ]
  },
  {
   "cell_type": "code",
   "execution_count": 77,
   "metadata": {},
   "outputs": [
    {
     "name": "stdout",
     "output_type": "stream",
     "text": [
      "Enter a value to check if given value is exist or not 30\n",
      "this key already exist\n"
     ]
    }
   ],
   "source": [
    "\n",
    "\n",
    "dictionary = {'first_value':10,'second_value':20,30:'third_value',40:'fourth_value'}\n",
    "\n",
    "check = input(\"Enter a value to check if given value is exist or not \")\n",
    "\n",
    "\n",
    "for d in dictionary.keys():\n",
    "        if str(d) == check :\n",
    "            print(\"this key already exist\")\n",
    "        "
   ]
  },
  {
   "cell_type": "code",
   "execution_count": null,
   "metadata": {},
   "outputs": [],
   "source": []
  },
  {
   "cell_type": "code",
   "execution_count": null,
   "metadata": {},
   "outputs": [],
   "source": []
  }
 ],
 "metadata": {
  "kernelspec": {
   "display_name": "Python 3",
   "language": "python",
   "name": "python3"
  },
  "language_info": {
   "codemirror_mode": {
    "name": "ipython",
    "version": 3
   },
   "file_extension": ".py",
   "mimetype": "text/x-python",
   "name": "python",
   "nbconvert_exporter": "python",
   "pygments_lexer": "ipython3",
   "version": "3.7.4"
  }
 },
 "nbformat": 4,
 "nbformat_minor": 2
}
