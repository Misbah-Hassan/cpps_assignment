{
 "cells": [
  {
   "cell_type": "code",
   "execution_count": 9,
   "metadata": {},
   "outputs": [
    {
     "name": "stdout",
     "output_type": "stream",
     "text": [
      "Enter numbers to print32\n",
      "Enter numbers to print42\n",
      "Enter numbers to print12\n",
      "Enter numbers to print32\n",
      "Enter numbers to print43\n",
      "Enter numbers to print43\n",
      "6\n"
     ]
    }
   ],
   "source": [
    "\n",
    "\n",
    "length = []\n",
    "\n",
    "for i in range(6):\n",
    "    length.append(int(input(\"Enter numbers to print\")));\n",
    "print(len(length))\n",
    "    \n",
    "    "
   ]
  },
  {
   "cell_type": "code",
   "execution_count": 1,
   "metadata": {},
   "outputs": [
    {
     "name": "stdout",
     "output_type": "stream",
     "text": [
      "Enter Marks marks70\n",
      "Enter biology marks90\n",
      "Enter physics marks50\n",
      "Enter urdu marks90\n",
      "Enter islamiat marks80\n",
      "76\n",
      "Your Grade is A\n"
     ]
    }
   ],
   "source": [
    "math =int(input(\"Enter Marks marks\")) ;\n",
    "biology = int(input(\"Enter biology marks\"));\n",
    "physics = int(input(\"Enter physics marks\"));\n",
    "urdu = int(input(\"Enter urdu marks\"));\n",
    "islamiat = int(input(\"Enter islamiat marks\"));\n",
    "total = math+biology+physics+urdu+islamiat;\n",
    "per = (total/500)*100;\n",
    "print(int(per))\n",
    "\n",
    "if per >= 80 and per <= 100 :\n",
    "    print(\"Your Grade is A+\")\n",
    "elif per >= 70 and per < 80 :\n",
    "    print(\"Your Grade is A\")\n",
    "elif per >= 60 and per < 70 :\n",
    "    print(\"Your Grade is B\")\n",
    "elif per >= 50 and per < 60 :\n",
    "    print(\"Your Grade is C\")\n",
    "elif per >= 40 and per < 50 :\n",
    "    print(\"Your Grade is D\")\n",
    "elif per >= 33 and per < 40 :\n",
    "    print(\"Your Grade is E\")\n",
    "elif per < 33:\n",
    "    print(\"Your Grade is F\")\n",
    "else : \n",
    "    print(\"Please! Enter a valid number\")\n",
    "    "
   ]
  },
  {
   "cell_type": "code",
   "execution_count": 6,
   "metadata": {},
   "outputs": [
    {
     "name": "stdout",
     "output_type": "stream",
     "text": [
      "Enter a number 4\n",
      "This is an Even Number\n"
     ]
    }
   ],
   "source": [
    "num = int(input(\"Enter a number \"))\n",
    "\n",
    "if num%2 == 1:\n",
    "    print(\"Entered value is Odd\")\n",
    "elif num%2 == 0:\n",
    "    print(\"Entered value is even\")"
   ]
  },
  {
   "cell_type": "code",
   "execution_count": 7,
   "metadata": {},
   "outputs": [
    {
     "name": "stdout",
     "output_type": "stream",
     "text": [
      "90\n"
     ]
    }
   ],
   "source": [
    "large_num = [4,50,20,90,20,54]\n",
    "print(max(large_num))"
   ]
  },
  {
   "cell_type": "code",
   "execution_count": 17,
   "metadata": {},
   "outputs": [
    {
     "name": "stdout",
     "output_type": "stream",
     "text": [
      "1\n",
      "1\n",
      "2\n",
      "3\n"
     ]
    }
   ],
   "source": [
    "a = [1, 1, 2, 3, 5, 8, 13, 21, 34, 55, 89]\n",
    "\n",
    "for i in a:\n",
    "    if i<5:\n",
    "     print(i)    "
   ]
  },
  {
   "cell_type": "code",
   "execution_count": 18,
   "metadata": {},
   "outputs": [
    {
     "name": "stdout",
     "output_type": "stream",
     "text": [
      "232\n"
     ]
    }
   ],
   "source": [
    "a = [1, 1, 2, 3, 5, 8, 13, 21, 34, 55, 89]\n",
    "print(sum(a))"
   ]
  },
  {
   "cell_type": "code",
   "execution_count": null,
   "metadata": {},
   "outputs": [],
   "source": []
  }
 ],
 "metadata": {
  "kernelspec": {
   "display_name": "Python 3",
   "language": "python",
   "name": "python3"
  },
  "language_info": {
   "codemirror_mode": {
    "name": "ipython",
    "version": 3
   },
   "file_extension": ".py",
   "mimetype": "text/x-python",
   "name": "python",
   "nbconvert_exporter": "python",
   "pygments_lexer": "ipython3",
   "version": "3.7.4"
  }
 },
 "nbformat": 4,
 "nbformat_minor": 2
}
