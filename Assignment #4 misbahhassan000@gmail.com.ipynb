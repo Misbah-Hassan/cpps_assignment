{
 "cells": [
  {
   "cell_type": "code",
   "execution_count": null,
   "metadata": {},
   "outputs": [],
   "source": [
    "#Assignment: 4,\n",
    "    #Q1\n",
    "\n",
    "\n",
    "person = {\n",
    "        'First_Name':'Shumais',\n",
    "        'Last_Name' : 'Ghulam Qadir',\n",
    "        'Age':'22',\n",
    "        'City':'Karachi',\n",
    "        }\n",
    "person['Qualification'] = 'BS in Computer Science'\n",
    "print(person)\n",
    "del person['Qualification']\n",
    "print(person)"
   ]
  },
  {
   "cell_type": "code",
   "execution_count": null,
   "metadata": {},
   "outputs": [],
   "source": [
    "#Q2\n",
    "\n",
    "\n",
    "cities  = {\n",
    "            'Karachi': {\n",
    "                         'Country' : 'Pakistan.',\n",
    "                         'Population': '14.91 Million.',\n",
    "                         'Fact' : 'It is the Sixth largest city in the world.',\n",
    "                       },\n",
    "            'Tokyo': {\n",
    "                         'Country' : 'Japan.',\n",
    "                         'Population': '9.273 Million.',\n",
    "                         'Fact':'Tokyo was formerly known as “Edo” in the 20th century. The name was changed to Tokyo in 1890 in light of the Meiji Restoration.',\n",
    "                     },\n",
    "            'Mumbai': {\n",
    "                         'Country' : 'India.',\n",
    "                         'Population': '18.41 Million.',\n",
    "                         'Fact':'It is also the wealthiest city in India, and has the highest number of millionaires and billionaires among all cities in India.',\n",
    "                     },\n",
    "            'Istanbul': {\n",
    "                         'Country' : 'Turkey.',\n",
    "                         'Population': '15.07 Million.',\n",
    "                         'Fact':'Istanbul is the only city in the world which is both in Europe and Asia geographicaly.',\n",
    "                     },\n",
    "          }\n",
    "\n",
    "\n",
    "for x,y in cities.items():\n",
    "    print(x+':\\n')\n",
    "    for i in y:\n",
    "        \n",
    "        print('\\t'+i+' : '+cities[x][i])\n",
    "    print('\\n')    "
   ]
  },
  {
   "cell_type": "code",
   "execution_count": null,
   "metadata": {},
   "outputs": [],
   "source": [
    "#Q3\n",
    "\n",
    "age = int(input('Please, Enter your age to find out your ticket price'))\n",
    "\n",
    "if age < 3:\n",
    "    print('There are no ticket charges for you.. Yayyyy!! :) ')\n",
    "elif age >= 3 and age <=12:\n",
    "    print('Sir, You have to pay 10$ ')\n",
    "else:\n",
    "    print('Sir, You have yo pay 15$')"
   ]
  },
  {
   "cell_type": "code",
   "execution_count": null,
   "metadata": {},
   "outputs": [],
   "source": [
    "#Q4\n",
    "\n",
    "title = str(input('Enter your favourite book name'))\n",
    "\n",
    "def favourite_book(title):\n",
    "    print('My Favourite Book is '+title)\n",
    "    \n",
    "favourite_book(title)    "
   ]
  },
  {
   "cell_type": "code",
   "execution_count": 3,
   "metadata": {},
   "outputs": [
    {
     "name": "stdout",
     "output_type": "stream",
     "text": [
      "\tWelcome to  Guess The Number Game, \n",
      "\t\tEnter a digit to begin\n",
      "20\n",
      "Wrong Answer\n",
      " 2 turn(s) left\n",
      "30\n",
      "Wrong Answer\n",
      " 1 turn(s) left\n",
      "20\n",
      "Wrong Answer\n",
      " 0 turn(s) left\n",
      "\t\tYou Lost The Game\n",
      " \t\tCorrect Number is 17\n"
     ]
    }
   ],
   "source": [
    "#Q5\n",
    "\n",
    "import random \n",
    "\n",
    "val =  int(random.uniform(1,30))\n",
    "turns = 3\n",
    "print('\\tWelcome to  Guess The Number Game, \\n\\t\\tEnter a digit to begin')\n",
    "for i in range(3):\n",
    "    ans = int(input()) \n",
    "    \n",
    "    if ans == val:\n",
    "        print('You Won, Hurrayyyy!! :)')\n",
    "        break\n",
    "    else:\n",
    "        turns = turns - 1\n",
    "        print('Wrong Answer\\n '+str(turns)+' turn(s) left')\n",
    "print('\\t\\tYou Lost The Game\\n \\t\\tCorrect Number is '+str(val))    "
   ]
  },
  {
   "cell_type": "code",
   "execution_count": null,
   "metadata": {},
   "outputs": [],
   "source": []
  }
 ],
 "metadata": {
  "kernelspec": {
   "display_name": "Python 3",
   "language": "python",
   "name": "python3"
  },
  "language_info": {
   "codemirror_mode": {
    "name": "ipython",
    "version": 3
   },
   "file_extension": ".py",
   "mimetype": "text/x-python",
   "name": "python",
   "nbconvert_exporter": "python",
   "pygments_lexer": "ipython3",
   "version": "3.7.4"
  }
 },
 "nbformat": 4,
 "nbformat_minor": 2
}
