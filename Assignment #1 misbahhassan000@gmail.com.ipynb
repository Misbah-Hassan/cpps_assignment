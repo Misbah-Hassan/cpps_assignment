{
 "cells": [
  {
   "cell_type": "code",
   "execution_count": 15,
   "metadata": {},
   "outputs": [
    {
     "name": "stdout",
     "output_type": "stream",
     "text": [
      "Twinkle, twinkle, little star,\n",
      "\tHow I wonder what you are!\n",
      "\t\tUp above the world so high,\n",
      "\t\tLike a diamond in the sky.\n",
      "Twinkle, twinkle, little star,\n",
      "\tHow I wonder what you are\n"
     ]
    }
   ],
   "source": [
    "\n",
    "\"\"\"\n",
    "1 -Write a Python program to print the following string in a specific format\n",
    "(see the output).\n",
    "\"\"\"\n",
    "\n",
    "poem = \"Twinkle, twinkle, little star,\\n\\tHow I wonder what you are!\\n\\t\\tUp above the world so high,\\n\\t\\tLike a diamond in the sky.\\nTwinkle, twinkle, little star,\\n\\tHow I wonder what you are\"\n",
    "print(poem);"
   ]
  },
  {
   "cell_type": "code",
   "execution_count": 32,
   "metadata": {},
   "outputs": [
    {
     "name": "stdout",
     "output_type": "stream",
     "text": [
      "Python Version : 3.7.4 (default, Aug  9 2019, 18:34:13) [MSC v.1915 64 bit (AMD64)]\n"
     ]
    }
   ],
   "source": [
    "\"\"\"\n",
    "2. Write a Python program to get the Python version you are using\n",
    "\"\"\"\n",
    "\n",
    "\n",
    "import sys;\n",
    "print(\"Python Version : \"+sys.version);"
   ]
  },
  {
   "cell_type": "code",
   "execution_count": 33,
   "metadata": {},
   "outputs": [
    {
     "name": "stdout",
     "output_type": "stream",
     "text": [
      "Current Date and Time : 2019-11-05 07:14:24.760439\n"
     ]
    }
   ],
   "source": [
    "\"\"\"\n",
    "3. Write a Python program to display the current date and time.\n",
    "\"\"\"\n",
    "\n",
    "from datetime import datetime;\n",
    "date = datetime.now();\n",
    "print(\"Current Date and Time : \"+str(date));"
   ]
  },
  {
   "cell_type": "code",
   "execution_count": 46,
   "metadata": {},
   "outputs": [
    {
     "name": "stdin",
     "output_type": "stream",
     "text": [
      "Enter the radius of the circle 4\n"
     ]
    },
    {
     "name": "stdout",
     "output_type": "stream",
     "text": [
      "The area of the circle with radius 4.0 is 50.26548245743669\n"
     ]
    }
   ],
   "source": [
    "\"\"\"\n",
    "4. Write a Python program which accepts the radius of a circle from the user\n",
    "and compute the area.\n",
    "\"\"\"\n",
    "from math import pi;\n",
    "rad = float(input(\"Enter the radius of the circle\")); \n",
    "print(\"The area of the circle with radius \"+str(rad)+\" is \"+str(pi * rad**2));"
   ]
  },
  {
   "cell_type": "code",
   "execution_count": 49,
   "metadata": {},
   "outputs": [
    {
     "name": "stdin",
     "output_type": "stream",
     "text": [
      "Enter your First Name ahsan\n",
      "Enter your Last Name sattar\n"
     ]
    },
    {
     "name": "stdout",
     "output_type": "stream",
     "text": [
      "sattar ahsan\n"
     ]
    }
   ],
   "source": [
    "\"\"\"\n",
    "5. Write a Python program which accepts the user's first and last name and\n",
    "print them in reverse order with a space between them.\n",
    "\"\"\"\n",
    "\n",
    "firstName = input(\"Enter your First Name\");\n",
    "lastName = input(\"Enter your Last Name\");\n",
    "print(lastName+\" \"+firstName);"
   ]
  },
  {
   "cell_type": "code",
   "execution_count": 56,
   "metadata": {},
   "outputs": [
    {
     "name": "stdin",
     "output_type": "stream",
     "text": [
      "Enter First Value 40\n",
      "Enter Second Value 78\n"
     ]
    },
    {
     "name": "stdout",
     "output_type": "stream",
     "text": [
      "The sum of the given numbers is : 118\n"
     ]
    }
   ],
   "source": [
    "\"\"\"\n",
    "6. Write a python program which takes two inputs from user and print them\n",
    "addition.\n",
    "\"\"\"\n",
    "v1 = int(input(\"Enter First Value\"));\n",
    "v2 = int(input(\"Enter Second Value\"));\n",
    "sum = v1 + v2;\n",
    "print(\"The sum of the given numbers is : \"+str(sum));\n",
    "\n"
   ]
  }
 ],
 "metadata": {
  "kernelspec": {
   "display_name": "Python 3",
   "language": "python",
   "name": "python3"
  },
  "language_info": {
   "codemirror_mode": {
    "name": "ipython",
    "version": 3
   },
   "file_extension": ".py",
   "mimetype": "text/x-python",
   "name": "python",
   "nbconvert_exporter": "python",
   "pygments_lexer": "ipython3",
   "version": "3.7.4"
  }
 },
 "nbformat": 4,
 "nbformat_minor": 4
}
